{
 "cells": [
  {
   "cell_type": "markdown",
   "metadata": {},
   "source": [
    "#### MP4 \n",
    "Merge and resize multiple .mp4 files into one file. The script will add a 5 second blank screen between each new clip and resize each clip to 1280*720. "
   ]
  },
  {
   "cell_type": "code",
   "execution_count": null,
   "metadata": {},
   "outputs": [],
   "source": [
    "from moviepy.editor import VideoFileClip, clips_array, TextClip\n",
    "import os\n",
    "\n",
    "input_folder = \"mp4input\" # change this to the location where your mp4 files are\n",
    "mp4_files = [f for f in os.listdir(input_folder) if f.endswith('.mp4')]\n",
    "mp4_files.sort()\n",
    "\n",
    "target_resolution = (1280, 720)  # change this to resize to a different format (width, height)\n",
    "\n",
    "\n",
    "video_clips = []\n",
    "for file in mp4_files:\n",
    "    video = VideoFileClip(os.path.join(input_folder, file))\n",
    "    resized_video = video.resize(target_resolution)\n",
    "    video_clips.append(resized_video)\n",
    "\n",
    "pause_duration = 5 # 5 second blank screen between each clip\n",
    "blank_clip = TextClip(\"\", duration=pause_duration)\n",
    "\n",
    "clips_with_pause = []\n",
    "for video in video_clips:\n",
    "    clips_with_pause.append(video)\n",
    "    clips_with_pause.append(blank_clip)\n",
    "clips_with_pause.pop()\n",
    "final_clip = clips_array([clips_with_pause])\n",
    "\n",
    "output_file = \"merged_video_with_resizing.mp4\" # change this to the name you want your merged file to have\n",
    "final_clip.write_videofile(output_file, codec='libx264')\n",
    "\n",
    "print(\"Merged video with resizing saved as\", output_file)"
   ]
  },
  {
   "cell_type": "markdown",
   "metadata": {},
   "source": [
    "#### MP3\n",
    "Basically the same script as above but for .mp3 files. The script will add a 5 second break between each new file. "
   ]
  },
  {
   "cell_type": "code",
   "execution_count": null,
   "metadata": {},
   "outputs": [],
   "source": [
    "from pydub import AudioSegment\n",
    "import os\n",
    "\n",
    "input_folder = \"mp3input\" # change this to the location where your mp4 files are\n",
    "\n",
    "mp3_files = [f for f in os.listdir(input_folder) if f.endswith('.mp3')]\n",
    "mp3_files.sort()\n",
    "\n",
    "output_file = \"merged_audio.mp3\" # change this to the name you want your merged file to have\n",
    "\n",
    "audio_segments = []\n",
    "\n",
    "for file in mp3_files:\n",
    "    audio = AudioSegment.from_mp3(os.path.join(input_folder, file))\n",
    "    audio_segments.append(audio)\n",
    "\n",
    "pause_duration = 5000  # 5 secvonds break between the mp3s (in milliseconds)\n",
    "blank_audio = AudioSegment.silent(duration=pause_duration) \n",
    "\n",
    "segments_with_pause = []\n",
    "for audio in audio_segments:\n",
    "    segments_with_pause.append(audio)\n",
    "    segments_with_pause.append(blank_audio)\n",
    "\n",
    "segments_with_pause.pop()\n",
    "final_audio = sum(segments_with_pause)\n",
    "final_audio.export(output_file, format=\"mp3\")\n",
    "print(\"Merged audio saved as\", output_file)"
   ]
  },
  {
   "cell_type": "markdown",
   "metadata": {},
   "source": [
    "#### .docx (Word)\n",
    "This script merges multiple word documents into one. The name of the original word file will be added as title for the content of that file in the new document."
   ]
  },
  {
   "cell_type": "code",
   "execution_count": null,
   "metadata": {},
   "outputs": [],
   "source": [
    "import os\n",
    "from docx import Document\n",
    "\n",
    "docx_files = [file for file in os.listdir() if file.endswith(\".docx\")]\n",
    "merged_document = Document()\n",
    "\n",
    "def add_title(doc, title):\n",
    "    title_paragraph = doc.add_paragraph()\n",
    "    title_run = title_paragraph.add_run(title)\n",
    "    title_run.bold = True\n",
    "    title_run.font.size = Pt(14)\n",
    "\n",
    "for docx_file in docx_files:\n",
    "    original_doc = Document(docx_file)\n",
    "    file_title = os.path.splitext(docx_file)[0]\n",
    "    add_title(merged_document, file_title)\n",
    "    for paragraph in original_doc.paragraphs:\n",
    "        merged_document.add_paragraph(paragraph.text)\n",
    "    merged_document.add_page_break()\n",
    "\n",
    "merged_document.save(\"merged_documents.docx\") # change this to the output name you want "
   ]
  },
  {
   "cell_type": "markdown",
   "metadata": {},
   "source": [
    "#### .txt"
   ]
  },
  {
   "cell_type": "code",
   "execution_count": null,
   "metadata": {},
   "outputs": [],
   "source": [
    "import os\n",
    "\n",
    "input_folder = \"txtinput\" # change this to the location of the .txt files\n",
    "txt_files = [f for f in os.listdir(input_folder) if f.endswith('.txt')]\n",
    "txt_files.sort()\n",
    "\n",
    "output_filename = \"merged_text.txt\"  # change this to the name that you want your output file to have\n",
    "\n",
    "def merge_text_files(files, output_file, delimiter=\"\\n\"):\n",
    "    with open(output_file, \"w\") as merged_file:\n",
    "        for file in files:\n",
    "            with open(os.path.join(input_folder, file), \"r\") as current_file:\n",
    "                merged_file.write(current_file.read() + delimiter)\n",
    "\n",
    "merge_text_files(txt_files, output_filename)\n",
    "print(\"Merged .txt files saved as\", output_filename)"
   ]
  },
  {
   "cell_type": "markdown",
   "metadata": {},
   "source": [
    "#### pdf"
   ]
  },
  {
   "cell_type": "code",
   "execution_count": null,
   "metadata": {},
   "outputs": [],
   "source": [
    "import os\n",
    "from PyPDF2 import PdfFileReader, PdfFileWriter\n",
    "\n",
    "input_folder = \"pdfinput\" # change this to where your pdfs are located\n",
    "\n",
    "pdf_files = [f for f in os.listdir(input_folder) if f.endswith('.pdf')]\n",
    "pdf_files.sort()\n",
    "\n",
    "output_filename = \"merged_pdf.pdf\"  # change this to the name that you want your output file to have\n",
    "\n",
    "def merge_pdf_files(files, output_file):\n",
    "    pdf_merger = PdfFileWriter()\n",
    "\n",
    "    for file in files:\n",
    "        pdf_reader = PdfFileReader(open(os.path.join(input_folder, file), \"rb\"))\n",
    "        for page_num in range(pdf_reader.getNumPages()):\n",
    "            page = pdf_reader.getPage(page_num)\n",
    "            pdf_merger.addPage(page)\n",
    "\n",
    "    with open(output_file, \"wb\") as merged_pdf:\n",
    "        pdf_merger.write(merged_pdf)\n",
    "\n",
    "merge_pdf_files(pdf_files, output_filename)\n",
    "print(\"Merged PDF saved as\", output_filename)"
   ]
  }
 ],
 "metadata": {
  "kernelspec": {
   "display_name": "Python 3",
   "language": "python",
   "name": "python3"
  },
  "language_info": {
   "codemirror_mode": {
    "name": "ipython",
    "version": 3
   },
   "file_extension": ".py",
   "mimetype": "text/x-python",
   "name": "python",
   "nbconvert_exporter": "python",
   "pygments_lexer": "ipython3",
   "version": "3.11.4"
  },
  "orig_nbformat": 4
 },
 "nbformat": 4,
 "nbformat_minor": 2
}
